{
 "cells": [
  {
   "cell_type": "markdown",
   "metadata": {
    "id": "hMQyPXs7p4lk",
    "pycharm": {
     "name": "#%% md\n"
    }
   },
   "source": [
    "# Moog VCF"
   ]
  },
  {
   "cell_type": "code",
   "execution_count": 4,
   "metadata": {
    "id": "gZ-ByO-Zp4lo",
    "pycharm": {
     "name": "#%%\n"
    }
   },
   "outputs": [
    {
     "ename": "ModuleNotFoundError",
     "evalue": "No module named 'librosa'",
     "output_type": "error",
     "traceback": [
      "\u001B[1;31m---------------------------------------------------------------------------\u001B[0m",
      "\u001B[1;31mModuleNotFoundError\u001B[0m                       Traceback (most recent call last)",
      "Input \u001B[1;32mIn [4]\u001B[0m, in \u001B[0;36m<cell line: 4>\u001B[1;34m()\u001B[0m\n\u001B[0;32m      2\u001B[0m \u001B[38;5;28;01mfrom\u001B[39;00m \u001B[38;5;21;01mscipy\u001B[39;00m\u001B[38;5;21;01m.\u001B[39;00m\u001B[38;5;21;01mfftpack\u001B[39;00m \u001B[38;5;28;01mimport\u001B[39;00m fft\n\u001B[0;32m      3\u001B[0m \u001B[38;5;28;01mimport\u001B[39;00m \u001B[38;5;21;01mnumpy\u001B[39;00m \u001B[38;5;28;01mas\u001B[39;00m \u001B[38;5;21;01mnp\u001B[39;00m\n\u001B[1;32m----> 4\u001B[0m \u001B[38;5;28;01mimport\u001B[39;00m \u001B[38;5;21;01mlibrosa\u001B[39;00m\n\u001B[0;32m      5\u001B[0m \u001B[38;5;28;01mimport\u001B[39;00m \u001B[38;5;21;01mlibrosa\u001B[39;00m\u001B[38;5;21;01m.\u001B[39;00m\u001B[38;5;21;01mdisplay\u001B[39;00m\n\u001B[0;32m      6\u001B[0m \u001B[38;5;28;01mfrom\u001B[39;00m \u001B[38;5;21;01mIPython\u001B[39;00m\u001B[38;5;21;01m.\u001B[39;00m\u001B[38;5;21;01mdisplay\u001B[39;00m \u001B[38;5;28;01mimport\u001B[39;00m Audio\n",
      "\u001B[1;31mModuleNotFoundError\u001B[0m: No module named 'librosa'"
     ]
    }
   ],
   "source": [
    "import numpy\n",
    "from scipy.fftpack import fft\n",
    "import numpy as np\n",
    "import librosa\n",
    "import librosa.display\n",
    "from IPython.display import Audio\n",
    "import matplotlib.pyplot as plt\n",
    "%matplotlib inline"
   ]
  },
  {
   "cell_type": "markdown",
   "metadata": {
    "collapsed": false,
    "id": "NSeMmFGaLG91",
    "pycharm": {
     "name": "#%% md\n"
    }
   },
   "source": []
  },
  {
   "cell_type": "markdown",
   "metadata": {
    "collapsed": false,
    "id": "uX3ya8eip4lr",
    "pycharm": {
     "name": "#%% md\n"
    }
   },
   "source": [
    "# Generate data from wav"
   ]
  },
  {
   "cell_type": "code",
   "execution_count": null,
   "metadata": {
    "colab": {
     "base_uri": "https://localhost:8080/",
     "height": 858
    },
    "id": "KdW6vishp4ls",
    "outputId": "14cf0536-c0aa-4658-f0f4-638e51931f17",
    "pycharm": {
     "name": "#%%\n"
    }
   },
   "outputs": [],
   "source": [
    "target_output, sr = librosa.load('./sound_examples/train/train_input_o.wav',sr=48e3)\n",
    "data = target_output\n",
    "# print data info\n",
    "print(data.shape)\n",
    "print(sr)\n",
    "\n",
    "# plot data\n",
    "time = np.arange(0,len(data)) / sr\n",
    "fig, ax = plt.subplots()\n",
    "ax.plot(time, data)\n",
    "ax.set(xlabel='Time(s)', ylabel='amplitude')\n",
    "plt.show()\n",
    "\n",
    "# plot mel spectrogram\n",
    "spec = librosa.feature.melspectrogram(y = data, sr = sr)\n",
    "db_spec = librosa.power_to_db(spec, ref = np.max,)\n",
    "log_spec = librosa.amplitude_to_db(spec)\n",
    "librosa.display.specshow(spec, y_axis='mel', x_axis='s', sr = sr)\n",
    "plt.colorbar()\n",
    "\n",
    "# plot spectrogram\n",
    "D = np.abs(librosa.stft(data))**2\n",
    "S = librosa.feature.melspectrogram(S=D)\n",
    "S = librosa.feature.melspectrogram(y=data, sr=sr, n_mels=128, fmax = 8000)\n",
    "plt.figure(figsize=(21,4))\n",
    "librosa.display.specshow(librosa.power_to_db(S,ref=np.max),y_axis = 'mel', fmax=8000, x_axis='time')\n",
    "plt.colorbar(format = '%+2.0f dB')\n",
    "plt.title('Mel spectrogram')\n",
    "plt.tight_layout()\n",
    "plt.show()\n",
    "\n",
    "# audio file\n",
    "print('target output')\n",
    "Audio(data = data, rate = sr)"
   ]
  },
  {
   "cell_type": "code",
   "execution_count": null,
   "metadata": {
    "colab": {
     "base_uri": "https://localhost:8080/",
     "height": 859
    },
    "id": "cN-W22-hLG92",
    "outputId": "5ab1e3a7-d152-41a2-8449-ca3f324d192c",
    "pycharm": {
     "name": "#%%\n"
    }
   },
   "outputs": [],
   "source": [
    "training_input, sr = librosa.load('./sound_examples/train/train_input.wav',sr=48e3)\n",
    "training_input = training_input[0:target_output.size]\n",
    "data = training_input\n",
    "# print data info\n",
    "print(data.shape)\n",
    "print(sr)\n",
    "\n",
    "# plot data\n",
    "time = np.arange(0,len(data)) / sr\n",
    "fig, ax = plt.subplots()\n",
    "ax.plot(time, data)\n",
    "ax.set(xlabel='Time(s)', ylabel='amplitude')\n",
    "plt.show()\n",
    "\n",
    "# plot mel spectrogram\n",
    "spec = librosa.feature.melspectrogram(y = data, sr = sr)\n",
    "db_spec = librosa.power_to_db(spec, ref = np.max,)\n",
    "log_spec = librosa.amplitude_to_db(spec)\n",
    "librosa.display.specshow(spec, y_axis='mel', x_axis='s', sr = sr)\n",
    "plt.colorbar()\n",
    "\n",
    "# plot spectrogram\n",
    "D = np.abs(librosa.stft(data))**2\n",
    "S = librosa.feature.melspectrogram(S=D)\n",
    "S = librosa.feature.melspectrogram(y=data, sr=sr, n_mels=128, fmax = 8000)\n",
    "plt.figure(figsize=(15,4))\n",
    "librosa.display.specshow(librosa.power_to_db(S,ref=np.max),y_axis = 'mel', fmax=8000, x_axis='time')\n",
    "plt.colorbar(format = '%+2.0f dB')\n",
    "plt.title('Mel spectrogram')\n",
    "plt.tight_layout()\n",
    "plt.show()\n",
    "\n",
    "# audio file\n",
    "print('train input')\n",
    "Audio(data= data, rate = sr)\n"
   ]
  },
  {
   "cell_type": "code",
   "execution_count": null,
   "metadata": {
    "colab": {
     "base_uri": "https://localhost:8080/"
    },
    "id": "qawr-020LG93",
    "outputId": "1403c356-1fcb-4c83-980d-83ebca5319d1",
    "pycharm": {
     "name": "#%%\n"
    }
   },
   "outputs": [],
   "source": [
    "print(training_input)"
   ]
  },
  {
   "cell_type": "code",
   "execution_count": null,
   "metadata": {
    "colab": {
     "base_uri": "https://localhost:8080/"
    },
    "id": "iQ5xslb8p4lt",
    "outputId": "9bb2df89-b5c5-446f-d5bd-4b13a9bf1f50",
    "pycharm": {
     "name": "#%%\n"
    }
   },
   "outputs": [],
   "source": [
    "print(target_output)"
   ]
  },
  {
   "cell_type": "markdown",
   "metadata": {
    "collapsed": false,
    "id": "jmVIWdaYp4lv",
    "pycharm": {
     "name": "#%% md\n"
    }
   },
   "source": [
    "## Declare Model\n",
    "Example will only be shown for this model, the other models are analogous."
   ]
  },
  {
   "cell_type": "code",
   "execution_count": null,
   "metadata": {
    "colab": {
     "base_uri": "https://localhost:8080/"
    },
    "id": "0smS5_A3p4lv",
    "outputId": "eb319764-b5f5-4095-e4a7-1fc289112df9",
    "pycharm": {
     "name": "#%%\n"
    }
   },
   "outputs": [],
   "source": [
    "import torch\n",
    "# model_type = \"MoogVCFRF_parameterized\" #or \"TDF-II\" or \"LSS\" or \"DOPOZ\" or \"SVF\"\n",
    "model_type = \"MoogVCF_circuit_parameterized\" #or \"TDF-II\" or \"LSS\" or \"DOPOZ\" or \"SVF\"\n",
    "\n",
    "if torch.cuda.is_available():\n",
    "    device = torch.device(\"cuda\")\n",
    "else:\n",
    "    device = torch.device(\"cpu\")\n",
    "\n",
    "device = torch.device(\"cpu\")\n",
    "\n",
    "if model_type == \"MoogVCFRF\":\n",
    "    from MoogVCF_rf2 import MoogVCFRFModel\n",
    "    model = MoogVCFRFModel(0.7, 1000.0, 0.1, 48e3).to(device)\n",
    "    print(\"Moog VCF RF initialized successfully\")\n",
    "elif model_type == \"MoogVCFRF_parameterized\":\n",
    "    from MoogVCF_rf2_parameterized import MoogVCFRFModel\n",
    "    model = MoogVCFRFModel(0.7, 1000.0, 0.1, 48e3).to(device)\n",
    "    print(\"Moog VCF RF parameterized model initialized successfully\")\n",
    "elif model_type == \"MoogVCF_circuit\":\n",
    "    from MoogVCF_rf3 import MoogVCFRFModel\n",
    "    model = MoogVCFRFModel(0.7,5e-5,4.7e-8,2.5e-2, 1.0, 48e3).to(device)\n",
    "    print(\"Moog VCF circuit data model initialized successfully\")\n",
    "elif model_type == \"MoogVCF_circuit_parameterized\":\n",
    "    from MoogVCF_rf3_parameterized import MoogVCFRFModel\n",
    "    model = MoogVCFRFModel(0.7,5e-5,4.7e-8,2.5e-2, 1.0, 48e3).to(device)\n",
    "    print(\"Moog VCF circuit data parameterized model initialized successfully\")\n",
    "elif model_type == \"MoogVCF_nonlinear\":\n",
    "    from MoogVCF_nonlinear import MoogVCFRFModel\n",
    "    model = MoogVCFRFModel(0.7, 1000.0, 0.1, 48e3).to(device)\n",
    "    print(\"Moog VCF nonlinear model initialized successfully\")\n",
    "elif model_type == \"MoogVCF_nonlinear_parameterized\":\n",
    "    from MoogVCF_nonlinear_parameterized import MoogVCFRFModel\n",
    "    model = MoogVCFRFModel(0.7, 1000.0, 0.1, 48e3).to(device)\n",
    "    print(\"Moog VCF nonlinear parameterized model initialized successfully\")\n",
    "else:\n",
    "    print(\"Please pick valid model type\")"
   ]
  },
  {
   "cell_type": "markdown",
   "metadata": {
    "collapsed": false,
    "id": "WDh7S-3cp4lw",
    "pycharm": {
     "name": "#%% md\n"
    }
   },
   "source": [
    "## Initialize Dataloader\n"
   ]
  },
  {
   "cell_type": "code",
   "execution_count": null,
   "metadata": {
    "colab": {
     "base_uri": "https://localhost:8080/"
    },
    "id": "7UXLl1rCLG94",
    "outputId": "3a2e13ca-c6d3-462c-b040-cf86731a5838",
    "pycharm": {
     "name": "#%%\n"
    }
   },
   "outputs": [],
   "source": [
    "from iir_dataset import DIIRDataSet\n",
    "from torch.utils.data import DataLoader\n",
    "\n",
    "batch_size = 1\n",
    "sequence_length = training_input.size\n",
    "print(int(training_input.size/3))\n",
    "loader = DataLoader(dataset=DIIRDataSet(training_input, target_output, sequence_length), batch_size=batch_size, shuffle = True)"
   ]
  },
  {
   "cell_type": "code",
   "execution_count": null,
   "metadata": {
    "colab": {
     "base_uri": "https://localhost:8080/"
    },
    "id": "L93KScA_p4lw",
    "outputId": "46fcedad-a40c-4832-cc24-8dfb3f6bd6e9",
    "pycharm": {
     "name": "#%%\n"
    }
   },
   "outputs": [],
   "source": [
    "from iir_dataset import DIIRDataSet\n",
    "from torch.utils.data import DataLoader\n",
    "\n",
    "batch_size = 1\n",
    "sequence_length = int(training_input.size/4)\n",
    "print(sequence_length)\n",
    "loader = DataLoader(dataset=DIIRDataSet(training_input, target_output, sequence_length), batch_size=batch_size, shuffle = True)"
   ]
  },
  {
   "cell_type": "markdown",
   "metadata": {
    "collapsed": false,
    "id": "zXIrtg1qp4lw",
    "pycharm": {
     "name": "#%% md\n"
    }
   },
   "source": [
    "## Define optimizer and criterion"
   ]
  },
  {
   "cell_type": "code",
   "execution_count": null,
   "metadata": {
    "id": "LjIsD4bxp4lw",
    "pycharm": {
     "name": "#%%\n"
    }
   },
   "outputs": [],
   "source": [
    "import torch.nn as nn\n",
    "from torch.optim import Adam\n",
    "from Loss import ESRLoss, LossWrapper, DCLoss\n",
    "\n",
    "n_epochs = 100\n",
    "lr = 1e-2\n",
    "\n",
    "optimizer = Adam(model.parameters(), lr=lr, betas=(0.9, 0.999), eps=1e-08, weight_decay=0, amsgrad=False)\n",
    "\n",
    "criterion = LossWrapper({'ESR': 0.25, 'DC': 0.75},None)\n",
    "# criterion = ESRLoss()\n",
    "# criterion = DCLoss()"
   ]
  },
  {
   "cell_type": "code",
   "execution_count": null,
   "metadata": {
    "colab": {
     "base_uri": "https://localhost:8080/"
    },
    "id": "XRGZvWIup4lw",
    "outputId": "1f088f95-3851-450a-bcae-987cd539cb69",
    "pycharm": {
     "name": "#%%\n"
    }
   },
   "outputs": [],
   "source": [
    "for param in model.parameters():\n",
    "    print(param.data, param.size())"
   ]
  },
  {
   "cell_type": "code",
   "execution_count": null,
   "metadata": {
    "colab": {
     "base_uri": "https://localhost:8080/"
    },
    "id": "bH28cgxxLG94",
    "outputId": "179fb42d-9205-4ac2-960e-4b77916963f3",
    "pycharm": {
     "name": "#%%\n"
    }
   },
   "outputs": [],
   "source": [
    "for name, param in model.named_parameters():\n",
    "    print(name, param)"
   ]
  },
  {
   "cell_type": "markdown",
   "metadata": {
    "collapsed": false,
    "id": "bAr14MhVp4lx",
    "pycharm": {
     "name": "#%% md\n"
    }
   },
   "source": [
    "## Define train loop"
   ]
  },
  {
   "cell_type": "code",
   "execution_count": null,
   "metadata": {
    "id": "a8h1uHrmp4lx",
    "pycharm": {
     "name": "#%%\n"
    }
   },
   "outputs": [],
   "source": [
    "def train(criterion, model, loader, optimizer, epoch):\n",
    "    model.train()\n",
    "    device = next(model.parameters()).device\n",
    "    total_loss = 0\n",
    "    count = 0\n",
    "    for batch in loader:\n",
    "        input_seq_batch = batch['input'].to(device)\n",
    "        target_seq_batch = batch['target'].to(device)\n",
    "        optimizer.zero_grad()\n",
    "        predicted_output = model(input_seq_batch)\n",
    "        loss = criterion(target_seq_batch, predicted_output)\n",
    "        loss.requires_grad_(True)\n",
    "        # torch.autograd.set_detect_anomaly(True)\n",
    "        loss.backward()\n",
    "        optimizer.step()\n",
    "        total_loss += loss.item()\n",
    "        count = count + 1\n",
    "        print(\"Epoch \" + str(epoch) +\" : batch \" + str(count) + \", loss = \" + str(loss.item()))\n",
    "\n",
    "    total_loss /= len(loader)\n",
    "    # print(count)\n",
    "    return total_loss, count"
   ]
  },
  {
   "cell_type": "markdown",
   "metadata": {
    "collapsed": false,
    "id": "Rg1QTXoMp4lx",
    "pycharm": {
     "name": "#%% md\n"
    }
   },
   "source": [
    "## Train!"
   ]
  },
  {
   "cell_type": "code",
   "execution_count": null,
   "metadata": {
    "id": "7Rw5W9yhLG95",
    "pycharm": {
     "name": "#%%\n"
    }
   },
   "outputs": [],
   "source": [
    "def plot_func_def(all_grads, layers):\n",
    "\n",
    "\n",
    "    \"\"\"\n",
    "    Plot function definition to plot the average gradient with respect to the number of layers in the given model\n",
    "    :param all_grads: Gradients wrt weights for each layer in the model.\n",
    "    :param layers: Layer names corresponding to the model parameters\n",
    "    :return: plot for gradient flow\n",
    "    \"\"\"\n",
    "    plt.plot(all_grads, alpha=0.3, color=\"b\")\n",
    "    plt.hlines(0, 0, len(all_grads)+1, linewidth=1, color=\"k\" )\n",
    "    plt.xticks(range(0,len(all_grads), 1), layers, rotation=\"vertical\")\n",
    "    plt.xlim(xmin=0, xmax=len(all_grads))\n",
    "    plt.xlabel(\"Layers\")\n",
    "    plt.ylabel(\"Average Gradient\")\n",
    "    plt.title(\"Gradient flow\")\n",
    "    plt.grid(True)\n",
    "    plt.tight_layout()\n",
    "\n",
    "    return plt\n",
    "\n",
    "\n",
    "def plot_grad_flow(named_parameters):\n",
    "    \"\"\"\n",
    "    The function is being called in Line 298 of this file.\n",
    "    Receives the parameters of the model being trained. Returns plot of gradient flow for the given model parameters.\n",
    "\n",
    "    \"\"\"\n",
    "    all_grads = []\n",
    "    layers = []\n",
    "\n",
    "    \"\"\"\n",
    "    Complete the code in the block below to collect absolute mean of the gradients for each layer in all_grads with the\n",
    "    layer names in layers.\n",
    "    \"\"\"\n",
    "    ########################################\n",
    "    for name, param in named_parameters:\n",
    "        if(param.requires_grad) and (\"bias\" not in name):\n",
    "            nname = name.split(\".\")\n",
    "            try:\n",
    "                addname = nname[2]+\"_\"+nname[3]\n",
    "                layers.append(addname)\n",
    "            except:\n",
    "                layers.append(nname[1])\n",
    "\n",
    "            if param.device == torch.device(\"cuda:0\"):\n",
    "                all_grads.append(numpy.mean(numpy.fabs(param.grad.cpu().detach().numpy())))\n",
    "            else:\n",
    "                all_grads.append(numpy.mean(numpy.fabs(param.grad.detach().numpy())))\n",
    "\n",
    "\n",
    "    ########################################\n",
    "\n",
    "    # print(all_grads)\n",
    "    # print(layers)\n",
    "    plt = plot_func_def(all_grads, layers)\n",
    "\n",
    "    return plt"
   ]
  },
  {
   "cell_type": "code",
   "execution_count": null,
   "metadata": {
    "id": "cMBK6_fWLG95",
    "pycharm": {
     "name": "#%%\n"
    }
   },
   "outputs": [],
   "source": [
    "# plt = plot_grad_flow(model.named_parameters())"
   ]
  },
  {
   "cell_type": "code",
   "execution_count": null,
   "metadata": {
    "colab": {
     "base_uri": "https://localhost:8080/",
     "height": 487
    },
    "id": "-hEtwOvXp4lx",
    "outputId": "e57207e4-ef62-4088-d35b-68a0360b67c1",
    "pycharm": {
     "name": "#%%\n"
    }
   },
   "outputs": [],
   "source": [
    "import os\n",
    "training_loss = np.zeros(n_epochs)\n",
    "experiment_saved_models = \".\\\\model_MoogVCF\\\\\"\n",
    "print(\"training using device:\"+ next(model.parameters()).device.type)\n",
    "for epoch in range(n_epochs):\n",
    "    loss, count = train(criterion, model, loader, optimizer, epoch)\n",
    "    training_loss[epoch] = loss\n",
    "    print(\"Epoch {} -- Loss {:3E}\".format(epoch, loss))\n",
    "    print(\"Generating Gradient Flow Plot at epoch {}\".format(epoch))\n",
    "    # plt = plot_grad_flow(model.named_parameters())\n",
    "    # plt.savefig(os.path.join(experiment_saved_models, \"epoch{}.pdf\".format(str(epoch))))"
   ]
  },
  {
   "cell_type": "code",
   "execution_count": null,
   "metadata": {
    "id": "M0suz0_ZLG95",
    "colab": {
     "base_uri": "https://localhost:8080/"
    },
    "outputId": "7d3f2912-3eb8-4c8d-c91a-ae548f6d8ea1",
    "pycharm": {
     "name": "#%%\n"
    }
   },
   "outputs": [],
   "source": [
    "list(model.parameters())"
   ]
  },
  {
   "cell_type": "code",
   "execution_count": null,
   "metadata": {
    "id": "kIHWXesqp4lx",
    "pycharm": {
     "name": "#%%\n"
    }
   },
   "outputs": [],
   "source": [
    "list(model.parameters())\n",
    "print(training_loss)\n",
    "epoch_axis = np.arange(0,n_epochs)\n",
    "fig, ax = plt.subplots()\n",
    "ax.plot(epoch_axis, training_loss)\n",
    "ax.set(xlabel='Epoch', ylabel='Loss')\n",
    "plt.show()"
   ]
  },
  {
   "cell_type": "code",
   "execution_count": null,
   "metadata": {
    "id": "3PA5rzIyp4ly",
    "pycharm": {
     "name": "#%%\n"
    }
   },
   "outputs": [],
   "source": [
    "def evaluation(criterion, model, loader):\n",
    "    device = next(model.parameters()).device\n",
    "    total_loss = 0\n",
    "    count = 0\n",
    "    for batch in loader:\n",
    "        input_seq_batch = batch['input'].to(device)\n",
    "        target_seq_batch = batch['target'].to(device)\n",
    "        predicted_output = model(input_seq_batch)\n",
    "        if count == 0:\n",
    "          output = ((predicted_output[:,:,0].detach().numpy()).reshape(-1, 1)).flatten()\n",
    "          count = count + 1\n",
    "          continue\n",
    "        else:\n",
    "          output = np.concatenate((output, ((predicted_output[:,:,0].detach().numpy()).reshape(-1, 1)).flatten()),axis=0)\n",
    "        loss = criterion(target_seq_batch, predicted_output)\n",
    "        total_loss += loss.item()\n",
    "\n",
    "    re_input = batch['input'].to(device)\n",
    "\n",
    "    total_loss /= len(loader)\n",
    "    return total_loss, output, re_input\n",
    "    # return output, re_input\n"
   ]
  },
  {
   "cell_type": "code",
   "execution_count": null,
   "metadata": {
    "colab": {
     "base_uri": "https://localhost:8080/"
    },
    "id": "M7dJ2uXVp4ly",
    "outputId": "c5d6f05f-b6e5-4fd9-d8a0-37c8d0a9cfa7",
    "pycharm": {
     "name": "#%%\n"
    }
   },
   "outputs": [],
   "source": [
    "from iir_dataset import DIIRDataSet\n",
    "from torch.utils.data import DataLoader\n",
    "\n",
    "testing_input, sr = librosa.load('./sound_examples/test_piano/test_input_piano.wav', sr = 48e3)\n",
    "testing_output, sr = librosa.load('./sound_examples/test_piano/test_input_piano_o.wav', sr = 48e3)\n",
    "testing_input = testing_input[0:testing_output.size]\n",
    "print(testing_input.size)\n",
    "print(testing_output)\n",
    "\n",
    "batch_size = 1\n",
    "sequence_length = int(testing_input.size/100)\n",
    "test_loader = DataLoader(dataset=DIIRDataSet(testing_input, testing_output, sequence_length), batch_size=batch_size, shuffle = False)"
   ]
  },
  {
   "cell_type": "code",
   "execution_count": null,
   "metadata": {
    "id": "ESvNj1nyp4ly",
    "pycharm": {
     "name": "#%%\n"
    }
   },
   "outputs": [],
   "source": [
    "from Loss import ESRLoss, DCLoss,LossWrapper\n",
    "# criterion = LossWrapper({'ESR': 0.25, 'DC': 0.75},None)\n",
    "criterion = ESRLoss()\n",
    "testing_loss, predicted_output, test_input = evaluation(criterion, model, test_loader)"
   ]
  },
  {
   "cell_type": "markdown",
   "metadata": {
    "collapsed": false,
    "id": "ln5DKmaALG96",
    "pycharm": {
     "name": "#%% md\n"
    }
   },
   "source": [
    "## Convert predicted result to audio"
   ]
  },
  {
   "cell_type": "code",
   "execution_count": null,
   "metadata": {
    "id": "XnUPDN_cp4ly",
    "colab": {
     "base_uri": "https://localhost:8080/"
    },
    "outputId": "244c99bb-0899-4055-e121-456c6a14ba30",
    "pycharm": {
     "name": "#%%\n"
    }
   },
   "outputs": [],
   "source": [
    "print(testing_loss)\n",
    "# if predicted_output.device == torch.device(\"cuda:0\"):\n",
    "#     data = ((predicted_output[:,:,0].cpu().detach().numpy()).reshape(-1, 1)).flatten()\n",
    "# else:\n",
    "#     data = ((predicted_output[:,:,0].detach().numpy()).reshape(-1, 1)).flatten()\n",
    "final_output = predicted_output\n",
    "Audio(data = final_output, rate = sr)\n",
    "# from scipy.io.wavfile import write\n",
    "# fs = int(48e3)\n",
    "# amplitude = 2.1474837779e9\n",
    "# data = final_output * amplitude\n",
    "# write(\"./sound_examples/finished_piano_output.wav\", fs, data.astype(np.int32))\n",
    "# final_piano, sr = librosa.load(\"./sound_examples/finished_piano_output.wav\", sr = 48e3)\n",
    "# print(final_output[2000])\n",
    "# print(final_piano[2000])\n",
    "\n",
    "from scipy.io.wavfile import write\n",
    "fs = int(48e3)\n",
    "amplitude = 2e11\n",
    "data = testing_input * amplitude\n",
    "write(\"./sound_examples/test_piano/finished_testing_input.wav\", fs,data.astype(np.int32))#.astype(np.float), data\n",
    "data = testing_output * amplitude\n",
    "write(\"./sound_examples/test_piano/finished_testing_output.wav\", fs,data.astype(np.int32))#.astype(np.float), data\n",
    "data = final_output * amplitude\n",
    "write(\"./sound_examples/test_piano/finished_final_output.wav\", fs,data.astype(np.int32))#.astype(np.float), data\n",
    "\n",
    "testing_input, sr = librosa.load('./sound_examples/test_piano/finished_testing_input.wav', sr = 48e3)\n",
    "testing_output, sr = librosa.load('./sound_examples/test_piano/finished_testing_output.wav', sr = 48e3)\n",
    "final_output, sr = librosa.load('./sound_examples/test_piano/finished_final_output.wav', sr = 48e3)\n"
   ]
  },
  {
   "cell_type": "code",
   "execution_count": null,
   "metadata": {
    "colab": {
     "base_uri": "https://localhost:8080/",
     "height": 315
    },
    "id": "dFPrYeAMp4lz",
    "outputId": "a47c82a4-ee81-4dfd-9fcc-3ebd2e5391b7",
    "pycharm": {
     "name": "#%%\n"
    }
   },
   "outputs": [],
   "source": [
    "Fs = sr\n",
    "t = np.arange(0,1,1/Fs)\n",
    "n = np.size(t)\n",
    "fr = 1e4*round((Fs/n))*np.linspace(0,1,round(n/2))\n",
    "\n",
    "# input\n",
    "X = fft(testing_input)\n",
    "X_m = (2/n)*abs(X[0:np.size(fr)])\n",
    "X_db = librosa.amplitude_to_db(X_m, ref = np.max)\n",
    "\n",
    "# target\n",
    "Y = fft(testing_output)\n",
    "Y_m = (2/n)*abs(Y[0:np.size(fr)])\n",
    "Y_db = librosa.amplitude_to_db(Y_m, ref = np.max)\n",
    "\n",
    "# target\n",
    "Z = fft(final_output)\n",
    "Z_m = (2/n)*abs(Z[0:np.size(fr)])\n",
    "Z_db = librosa.amplitude_to_db(Z_m, ref = np.max)\n",
    "\n",
    "# plt.subplot(3,1,1)\n",
    "plt.loglog(fr,abs(X_m));\n",
    "plt.title('test input')\n",
    "plt.xlabel('Frequency(Hz)')\n",
    "plt.ylabel('Magnitude')\n",
    "plt.tight_layout()\n",
    "\n",
    "# plt.subplot(3,1,2)\n",
    "plt.loglog(fr,abs(Y_m));\n",
    "plt.title('test output')\n",
    "plt.xlabel('Frequency(Hz)')\n",
    "plt.ylabel('Magnitude')\n",
    "plt.tight_layout()\n",
    "\n",
    "# plt.subplot(3,1,3)\n",
    "plt.loglog(fr,abs(Z_m),linestyle='--');\n",
    "plt.title('predicted output')\n",
    "plt.xlabel('Frequency(Hz)')\n",
    "plt.ylabel('Magnitude')\n",
    "plt.tight_layout()\n",
    "\n",
    "# cutoff\n",
    "# plt.xlim(1.686e3,1.6868e3)\n",
    "# plt.xlim(1.5962e3,1.59725e3)\n",
    "# plt.ylim(1e-5,1e-2)\n",
    "# common\n",
    "# plt.xlim(2.8e3,2.82e3)\n",
    "# plt.ylim(1e-4,1e-2)\n",
    "plt.legend(['input','target','predicted'])"
   ]
  },
  {
   "cell_type": "code",
   "execution_count": null,
   "metadata": {
    "colab": {
     "base_uri": "https://localhost:8080/",
     "height": 315
    },
    "id": "9-QNs_g4p4lz",
    "outputId": "78a6d7d2-59f8-4ec7-b86f-cb634d310dbf",
    "pycharm": {
     "name": "#%%\n"
    }
   },
   "outputs": [],
   "source": [
    "# plot data\n",
    "data = testing_input\n",
    "time = np.arange(0,len(data)) / sr\n",
    "# plt.subplot(3,1,1)\n",
    "plt.plot(time, data)\n",
    "plt.xlabel(\"Time(s)\")\n",
    "plt.ylabel(\"amplitude\")\n",
    "plt.title(\"test input signal\")\n",
    "\n",
    "data = testing_output\n",
    "time = np.arange(0,len(data)) / sr\n",
    "# plt.subplot(3,1,2)\n",
    "plt.plot(time, data)\n",
    "plt.xlabel(\"Time(s)\")\n",
    "plt.ylabel(\"amplitude\")\n",
    "plt.title(\"target output signal\")\n",
    "\n",
    "data = final_output\n",
    "time = np.arange(0,len(data)) / sr\n",
    "# plt.subplot(3,1,3)\n",
    "plt.plot(time, data,linestyle='--')\n",
    "plt.xlabel(\"Time(s)\")\n",
    "plt.ylabel(\"amplitude\")\n",
    "plt.title(\"predicted output signal\")\n",
    "plt.tight_layout()\n",
    "\n",
    "# common\n",
    "# plt.xlim(29.027,29.032)\n",
    "# cutoff\n",
    "# plt.xlim(3.110, 3.115)\n",
    "\n",
    "# cutoff\n",
    "plt.xlim(7.12,7.13)\n",
    "plt.ylim(-0.12, 0.12)\n",
    "\n",
    "# common\n",
    "# plt.xlim(10.06,10.07)\n",
    "\n",
    "plt.legend(['input','target','predicted'])"
   ]
  },
  {
   "cell_type": "code",
   "execution_count": null,
   "metadata": {
    "colab": {
     "base_uri": "https://localhost:8080/",
     "height": 934
    },
    "id": "oIix8YMMp4lz",
    "outputId": "f15b807c-2bc8-48e2-ba3b-52714bf8ce32",
    "pycharm": {
     "name": "#%%\n"
    }
   },
   "outputs": [],
   "source": [
    "data, sr = librosa.load('./sound_examples/finished_piano_output.wav',sr=48e3)\n",
    "data = final_output\n",
    "# print data info\n",
    "print(data.shape)\n",
    "print(sr)\n",
    "# plot data\n",
    "time = np.arange(0,len(data)) / sr\n",
    "fig, ax = plt.subplots()\n",
    "ax.plot(time, data)\n",
    "ax.set(xlabel='Time(s)', ylabel='amplitude')\n",
    "plt.show()\n",
    "\n",
    "# plot mel spectrogram\n",
    "spec = librosa.feature.melspectrogram(y = data, sr = sr)\n",
    "db_spec = librosa.power_to_db(spec, ref = np.max,)\n",
    "log_spec = librosa.amplitude_to_db(spec)\n",
    "librosa.display.specshow(spec, y_axis='mel', x_axis='s', sr = sr)\n",
    "plt.colorbar()\n",
    "\n",
    "# plot spectrogram\n",
    "# D = np.abs(librosa.stft(data))**2\n",
    "# S = librosa.feature.melspectrogram(S=D)\n",
    "S = librosa.feature.melspectrogram(y=data, sr=48e3, n_mels=128, fmax = 8000)#8000\n",
    "plt.figure(figsize=(10,4))\n",
    "librosa.display.specshow(librosa.power_to_db(S,ref=np.max),y_axis = 'mel', fmax=8000, x_axis='time')\n",
    "plt.colorbar(format = '%+2.0f dB')\n",
    "plt.title('Mel spectrogram')\n",
    "plt.tight_layout()\n",
    "plt.show()\n",
    "\n",
    "# audio file\n",
    "print('predicted_output')\n",
    "Audio(data = 0.1*data, rate = sr)"
   ]
  },
  {
   "cell_type": "code",
   "execution_count": null,
   "metadata": {
    "colab": {
     "base_uri": "https://localhost:8080/",
     "height": 74
    },
    "id": "fNHPGTgbp4ly",
    "outputId": "4d43278f-dcb1-4079-c979-792d2424c587",
    "pycharm": {
     "name": "#%%\n"
    }
   },
   "outputs": [],
   "source": [
    "Audio(data = testing_input, rate = sr)\n"
   ]
  },
  {
   "cell_type": "code",
   "execution_count": null,
   "metadata": {
    "colab": {
     "base_uri": "https://localhost:8080/",
     "height": 74
    },
    "id": "00dpuM0Ap4ly",
    "outputId": "2f934c9d-5cab-413d-9f3e-d890ca85230f",
    "pycharm": {
     "name": "#%%\n"
    }
   },
   "outputs": [],
   "source": [
    "Audio(data = testing_output, rate = sr)"
   ]
  },
  {
   "cell_type": "code",
   "execution_count": null,
   "metadata": {
    "colab": {
     "base_uri": "https://localhost:8080/"
    },
    "id": "DKLit3Lup4ly",
    "outputId": "1b7b15ea-6df5-4ef5-daa4-8b30517a1f4e",
    "pycharm": {
     "name": "#%%\n"
    }
   },
   "outputs": [],
   "source": [
    "print(testing_input)\n",
    "print(testing_output)\n",
    "print(final_output)"
   ]
  },
  {
   "cell_type": "code",
   "execution_count": null,
   "metadata": {
    "colab": {
     "base_uri": "https://localhost:8080/",
     "height": 74
    },
    "id": "pDtF7Ap3p4lz",
    "outputId": "03a0d329-f99d-4fb6-c195-8b07f1f9ebab",
    "pycharm": {
     "name": "#%%\n"
    }
   },
   "outputs": [],
   "source": [
    "Audio(data = testing_output, rate = sr)"
   ]
  },
  {
   "cell_type": "code",
   "execution_count": null,
   "metadata": {
    "colab": {
     "base_uri": "https://localhost:8080/",
     "height": 74
    },
    "id": "M2RnKHIIp4lz",
    "outputId": "939ec207-9a78-41a7-b6ac-2f4d45972203",
    "pycharm": {
     "name": "#%%\n"
    }
   },
   "outputs": [],
   "source": [
    "Audio(data = final_output, rate = sr)"
   ]
  }
 ],
 "metadata": {
  "colab": {
   "background_execution": "on",
   "machine_shape": "hm",
   "name": "TrainingModel_circuit_p.ipynb",
   "provenance": [],
   "collapsed_sections": []
  },
  "gpuClass": "standard",
  "kernelspec": {
   "display_name": "Python 3 (ipykernel)",
   "language": "python",
   "name": "python3"
  },
  "language_info": {
   "codemirror_mode": {
    "name": "ipython",
    "version": 3
   },
   "file_extension": ".py",
   "mimetype": "text/x-python",
   "name": "python",
   "nbconvert_exporter": "python",
   "pygments_lexer": "ipython3",
   "version": "3.9.12"
  }
 },
 "nbformat": 4,
 "nbformat_minor": 0
}